{
 "cells": [
  {
   "cell_type": "markdown",
   "id": "6a588d47",
   "metadata": {},
   "source": [
    "#  Future stock prices preventing "
   ]
  },
  {
   "cell_type": "code",
   "execution_count": 28,
   "id": "23877710",
   "metadata": {},
   "outputs": [],
   "source": [
    "import pandas as pd\n",
    "import numpy as np\n",
    "from scipy import stats\n",
    "import seaborn as sns\n",
    "import matplotlib.pyplot as plt\n",
    "from sklearn.linear_model import LinearRegression\n",
    "from sklearn.model_selection import train_test_split\n",
    "%matplotlib inline"
   ]
  },
  {
   "cell_type": "code",
   "execution_count": 2,
   "id": "ef7edefd",
   "metadata": {},
   "outputs": [],
   "source": [
    "df = pd.read_csv('C:\\\\Users\\\\SARVESH SURVE\\\\OneDrive\\\\Desktop\\\\data\\\\Kaggle data set\\\\SHARADAR-Stock.csv')"
   ]
  },
  {
   "cell_type": "code",
   "execution_count": 3,
   "id": "ae0fb35e",
   "metadata": {
    "scrolled": true
   },
   "outputs": [
    {
     "data": {
      "text/html": [
       "<div>\n",
       "<style scoped>\n",
       "    .dataframe tbody tr th:only-of-type {\n",
       "        vertical-align: middle;\n",
       "    }\n",
       "\n",
       "    .dataframe tbody tr th {\n",
       "        vertical-align: top;\n",
       "    }\n",
       "\n",
       "    .dataframe thead th {\n",
       "        text-align: right;\n",
       "    }\n",
       "</style>\n",
       "<table border=\"1\" class=\"dataframe\">\n",
       "  <thead>\n",
       "    <tr style=\"text-align: right;\">\n",
       "      <th></th>\n",
       "      <th>ticker</th>\n",
       "      <th>date</th>\n",
       "      <th>open</th>\n",
       "      <th>high</th>\n",
       "      <th>low</th>\n",
       "      <th>close</th>\n",
       "      <th>volume</th>\n",
       "      <th>dividends</th>\n",
       "      <th>closeunadj</th>\n",
       "      <th>lastupdated</th>\n",
       "    </tr>\n",
       "  </thead>\n",
       "  <tbody>\n",
       "    <tr>\n",
       "      <th>0</th>\n",
       "      <td>XOM</td>\n",
       "      <td>9/21/2018</td>\n",
       "      <td>85.01</td>\n",
       "      <td>85.43</td>\n",
       "      <td>84.52</td>\n",
       "      <td>85.17</td>\n",
       "      <td>26196749</td>\n",
       "      <td>0.0</td>\n",
       "      <td>85.17</td>\n",
       "      <td>9/21/2018</td>\n",
       "    </tr>\n",
       "    <tr>\n",
       "      <th>1</th>\n",
       "      <td>XOM</td>\n",
       "      <td>9/20/2018</td>\n",
       "      <td>84.86</td>\n",
       "      <td>85.34</td>\n",
       "      <td>84.54</td>\n",
       "      <td>84.82</td>\n",
       "      <td>10621638</td>\n",
       "      <td>0.0</td>\n",
       "      <td>84.82</td>\n",
       "      <td>9/20/2018</td>\n",
       "    </tr>\n",
       "    <tr>\n",
       "      <th>2</th>\n",
       "      <td>XOM</td>\n",
       "      <td>9/19/2018</td>\n",
       "      <td>83.64</td>\n",
       "      <td>84.77</td>\n",
       "      <td>83.64</td>\n",
       "      <td>84.63</td>\n",
       "      <td>9787326</td>\n",
       "      <td>0.0</td>\n",
       "      <td>84.63</td>\n",
       "      <td>9/19/2018</td>\n",
       "    </tr>\n",
       "    <tr>\n",
       "      <th>3</th>\n",
       "      <td>XOM</td>\n",
       "      <td>9/18/2018</td>\n",
       "      <td>83.90</td>\n",
       "      <td>84.13</td>\n",
       "      <td>83.45</td>\n",
       "      <td>83.63</td>\n",
       "      <td>8799790</td>\n",
       "      <td>0.0</td>\n",
       "      <td>83.63</td>\n",
       "      <td>9/18/2018</td>\n",
       "    </tr>\n",
       "    <tr>\n",
       "      <th>4</th>\n",
       "      <td>XOM</td>\n",
       "      <td>9/17/2018</td>\n",
       "      <td>83.00</td>\n",
       "      <td>83.61</td>\n",
       "      <td>82.99</td>\n",
       "      <td>83.41</td>\n",
       "      <td>7898451</td>\n",
       "      <td>0.0</td>\n",
       "      <td>83.41</td>\n",
       "      <td>9/17/2018</td>\n",
       "    </tr>\n",
       "  </tbody>\n",
       "</table>\n",
       "</div>"
      ],
      "text/plain": [
       "  ticker       date   open   high    low  close    volume  dividends  \\\n",
       "0    XOM  9/21/2018  85.01  85.43  84.52  85.17  26196749        0.0   \n",
       "1    XOM  9/20/2018  84.86  85.34  84.54  84.82  10621638        0.0   \n",
       "2    XOM  9/19/2018  83.64  84.77  83.64  84.63   9787326        0.0   \n",
       "3    XOM  9/18/2018  83.90  84.13  83.45  83.63   8799790        0.0   \n",
       "4    XOM  9/17/2018  83.00  83.61  82.99  83.41   7898451        0.0   \n",
       "\n",
       "   closeunadj lastupdated  \n",
       "0       85.17   9/21/2018  \n",
       "1       84.82   9/20/2018  \n",
       "2       84.63   9/19/2018  \n",
       "3       83.63   9/18/2018  \n",
       "4       83.41   9/17/2018  "
      ]
     },
     "execution_count": 3,
     "metadata": {},
     "output_type": "execute_result"
    }
   ],
   "source": [
    "df.head()"
   ]
  },
  {
   "cell_type": "code",
   "execution_count": 4,
   "id": "028be5ac",
   "metadata": {
    "scrolled": true
   },
   "outputs": [
    {
     "name": "stdout",
     "output_type": "stream",
     "text": [
      "<class 'pandas.core.frame.DataFrame'>\n",
      "RangeIndex: 10000 entries, 0 to 9999\n",
      "Data columns (total 10 columns):\n",
      " #   Column       Non-Null Count  Dtype  \n",
      "---  ------       --------------  -----  \n",
      " 0   ticker       10000 non-null  object \n",
      " 1   date         10000 non-null  object \n",
      " 2   open         10000 non-null  float64\n",
      " 3   high         10000 non-null  float64\n",
      " 4   low          10000 non-null  float64\n",
      " 5   close        10000 non-null  float64\n",
      " 6   volume       10000 non-null  int64  \n",
      " 7   dividends    10000 non-null  float64\n",
      " 8   closeunadj   10000 non-null  float64\n",
      " 9   lastupdated  10000 non-null  object \n",
      "dtypes: float64(6), int64(1), object(3)\n",
      "memory usage: 781.4+ KB\n"
     ]
    }
   ],
   "source": [
    "df.info()"
   ]
  },
  {
   "cell_type": "code",
   "execution_count": 5,
   "id": "a37ea1b6",
   "metadata": {},
   "outputs": [
    {
     "data": {
      "text/html": [
       "<div>\n",
       "<style scoped>\n",
       "    .dataframe tbody tr th:only-of-type {\n",
       "        vertical-align: middle;\n",
       "    }\n",
       "\n",
       "    .dataframe tbody tr th {\n",
       "        vertical-align: top;\n",
       "    }\n",
       "\n",
       "    .dataframe thead th {\n",
       "        text-align: right;\n",
       "    }\n",
       "</style>\n",
       "<table border=\"1\" class=\"dataframe\">\n",
       "  <thead>\n",
       "    <tr style=\"text-align: right;\">\n",
       "      <th></th>\n",
       "      <th>open</th>\n",
       "      <th>high</th>\n",
       "      <th>low</th>\n",
       "      <th>close</th>\n",
       "      <th>volume</th>\n",
       "      <th>dividends</th>\n",
       "      <th>closeunadj</th>\n",
       "    </tr>\n",
       "  </thead>\n",
       "  <tbody>\n",
       "    <tr>\n",
       "      <th>open</th>\n",
       "      <td>1.000000</td>\n",
       "      <td>0.999493</td>\n",
       "      <td>0.999436</td>\n",
       "      <td>0.999014</td>\n",
       "      <td>0.112886</td>\n",
       "      <td>0.048213</td>\n",
       "      <td>0.794610</td>\n",
       "    </tr>\n",
       "    <tr>\n",
       "      <th>high</th>\n",
       "      <td>0.999493</td>\n",
       "      <td>1.000000</td>\n",
       "      <td>0.999160</td>\n",
       "      <td>0.999512</td>\n",
       "      <td>0.122704</td>\n",
       "      <td>0.047287</td>\n",
       "      <td>0.795133</td>\n",
       "    </tr>\n",
       "    <tr>\n",
       "      <th>low</th>\n",
       "      <td>0.999436</td>\n",
       "      <td>0.999160</td>\n",
       "      <td>1.000000</td>\n",
       "      <td>0.999438</td>\n",
       "      <td>0.102190</td>\n",
       "      <td>0.047425</td>\n",
       "      <td>0.795478</td>\n",
       "    </tr>\n",
       "    <tr>\n",
       "      <th>close</th>\n",
       "      <td>0.999014</td>\n",
       "      <td>0.999512</td>\n",
       "      <td>0.999438</td>\n",
       "      <td>1.000000</td>\n",
       "      <td>0.112503</td>\n",
       "      <td>0.046888</td>\n",
       "      <td>0.795965</td>\n",
       "    </tr>\n",
       "    <tr>\n",
       "      <th>volume</th>\n",
       "      <td>0.112886</td>\n",
       "      <td>0.122704</td>\n",
       "      <td>0.102190</td>\n",
       "      <td>0.112503</td>\n",
       "      <td>1.000000</td>\n",
       "      <td>0.006964</td>\n",
       "      <td>0.019410</td>\n",
       "    </tr>\n",
       "    <tr>\n",
       "      <th>dividends</th>\n",
       "      <td>0.048213</td>\n",
       "      <td>0.047287</td>\n",
       "      <td>0.047425</td>\n",
       "      <td>0.046888</td>\n",
       "      <td>0.006964</td>\n",
       "      <td>1.000000</td>\n",
       "      <td>0.040859</td>\n",
       "    </tr>\n",
       "    <tr>\n",
       "      <th>closeunadj</th>\n",
       "      <td>0.794610</td>\n",
       "      <td>0.795133</td>\n",
       "      <td>0.795478</td>\n",
       "      <td>0.795965</td>\n",
       "      <td>0.019410</td>\n",
       "      <td>0.040859</td>\n",
       "      <td>1.000000</td>\n",
       "    </tr>\n",
       "  </tbody>\n",
       "</table>\n",
       "</div>"
      ],
      "text/plain": [
       "                open      high       low     close    volume  dividends  \\\n",
       "open        1.000000  0.999493  0.999436  0.999014  0.112886   0.048213   \n",
       "high        0.999493  1.000000  0.999160  0.999512  0.122704   0.047287   \n",
       "low         0.999436  0.999160  1.000000  0.999438  0.102190   0.047425   \n",
       "close       0.999014  0.999512  0.999438  1.000000  0.112503   0.046888   \n",
       "volume      0.112886  0.122704  0.102190  0.112503  1.000000   0.006964   \n",
       "dividends   0.048213  0.047287  0.047425  0.046888  0.006964   1.000000   \n",
       "closeunadj  0.794610  0.795133  0.795478  0.795965  0.019410   0.040859   \n",
       "\n",
       "            closeunadj  \n",
       "open          0.794610  \n",
       "high          0.795133  \n",
       "low           0.795478  \n",
       "close         0.795965  \n",
       "volume        0.019410  \n",
       "dividends     0.040859  \n",
       "closeunadj    1.000000  "
      ]
     },
     "execution_count": 5,
     "metadata": {},
     "output_type": "execute_result"
    }
   ],
   "source": [
    "df.corr()"
   ]
  },
  {
   "cell_type": "code",
   "execution_count": 6,
   "id": "550eac65",
   "metadata": {},
   "outputs": [],
   "source": [
    "X = df[['open', 'high', 'low', 'volume', 'dividends']]\n",
    "y = df['close']"
   ]
  },
  {
   "cell_type": "code",
   "execution_count": 7,
   "id": "81cde91c",
   "metadata": {},
   "outputs": [
    {
     "data": {
      "text/plain": [
       "<AxesSubplot:>"
      ]
     },
     "execution_count": 7,
     "metadata": {},
     "output_type": "execute_result"
    },
    {
     "data": {
      "image/png": "[encoded data removed]",
      "text/plain": [
       "<Figure size 640x480 with 2 Axes>"
      ]
     },
     "metadata": {},
     "output_type": "display_data"
    }
   ],
   "source": [
    "sns.heatmap(df.corr(), annot=True)"
   ]
  },
  {
   "cell_type": "code",
   "execution_count": 8,
   "id": "5208b079",
   "metadata": {},
   "outputs": [],
   "source": [
    "X_train, X_test, y_train, y_test = train_test_split(X, y, test_size=0.2, random_state=0)"
   ]
  },
  {
   "cell_type": "code",
   "execution_count": 9,
   "id": "67519df5",
   "metadata": {},
   "outputs": [
    {
     "data": {
      "text/plain": [
       "LinearRegression()"
      ]
     },
     "execution_count": 9,
     "metadata": {},
     "output_type": "execute_result"
    }
   ],
   "source": [
    "model = LinearRegression()\n",
    "model.fit(X_train, y_train)"
   ]
  },
  {
   "cell_type": "code",
   "execution_count": 10,
   "id": "5f507b39",
   "metadata": {},
   "outputs": [],
   "source": [
    "future_stock_prices = model.predict(X_test)"
   ]
  },
  {
   "cell_type": "code",
   "execution_count": 11,
   "id": "bba1f650",
   "metadata": {},
   "outputs": [
    {
     "name": "stdout",
     "output_type": "stream",
     "text": [
      "Accuracy: 0.9995578142443795\n"
     ]
    }
   ],
   "source": [
    "accuracy = model.score(X_test, y_test)\n",
    "print(f'Accuracy: {accuracy}')"
   ]
  },
  {
   "cell_type": "code",
   "execution_count": 12,
   "id": "94a32b66",
   "metadata": {
    "scrolled": false
   },
   "outputs": [
    {
     "name": "stdout",
     "output_type": "stream",
     "text": [
      "[59.86243267 87.73227305 67.56846612 ... 49.40600659 87.71630136\n",
      " 71.64438445]\n"
     ]
    }
   ],
   "source": [
    "print(future_stock_prices)"
   ]
  },
  {
   "cell_type": "code",
   "execution_count": 13,
   "id": "d4e3800e",
   "metadata": {
    "scrolled": true
   },
   "outputs": [
    {
     "name": "stdout",
     "output_type": "stream",
     "text": [
      "      Actual  Predicted\n",
      "9394   59.29  59.862433\n",
      "898    88.04  87.732273\n",
      "2398   66.97  67.568466\n",
      "5906   60.83  60.946869\n",
      "2343   72.08  71.591996\n",
      "...      ...        ...\n",
      "1037   98.73  98.842714\n",
      "2899   72.00  71.690201\n",
      "9549   49.75  49.406007\n",
      "2740   87.93  87.716301\n",
      "6690   71.81  71.644384\n",
      "\n",
      "[2000 rows x 2 columns]\n"
     ]
    }
   ],
   "source": [
    "table = pd.DataFrame({'Actual': y_test, 'Predicted': future_stock_prices})\n",
    "print(table)"
   ]
  },
  {
   "cell_type": "code",
   "execution_count": 14,
   "id": "98a76ced",
   "metadata": {
    "scrolled": false
   },
   "outputs": [
    {
     "data": {
      "text/html": [
       "<div>\n",
       "<style scoped>\n",
       "    .dataframe tbody tr th:only-of-type {\n",
       "        vertical-align: middle;\n",
       "    }\n",
       "\n",
       "    .dataframe tbody tr th {\n",
       "        vertical-align: top;\n",
       "    }\n",
       "\n",
       "    .dataframe thead th {\n",
       "        text-align: right;\n",
       "    }\n",
       "</style>\n",
       "<table border=\"1\" class=\"dataframe\">\n",
       "  <thead>\n",
       "    <tr style=\"text-align: right;\">\n",
       "      <th></th>\n",
       "      <th>Actual</th>\n",
       "      <th>Predicted</th>\n",
       "    </tr>\n",
       "  </thead>\n",
       "  <tbody>\n",
       "    <tr>\n",
       "      <th>9394</th>\n",
       "      <td>59.29</td>\n",
       "      <td>59.862433</td>\n",
       "    </tr>\n",
       "    <tr>\n",
       "      <th>898</th>\n",
       "      <td>88.04</td>\n",
       "      <td>87.732273</td>\n",
       "    </tr>\n",
       "    <tr>\n",
       "      <th>2398</th>\n",
       "      <td>66.97</td>\n",
       "      <td>67.568466</td>\n",
       "    </tr>\n",
       "    <tr>\n",
       "      <th>5906</th>\n",
       "      <td>60.83</td>\n",
       "      <td>60.946869</td>\n",
       "    </tr>\n",
       "    <tr>\n",
       "      <th>2343</th>\n",
       "      <td>72.08</td>\n",
       "      <td>71.591996</td>\n",
       "    </tr>\n",
       "    <tr>\n",
       "      <th>8225</th>\n",
       "      <td>48.22</td>\n",
       "      <td>48.272965</td>\n",
       "    </tr>\n",
       "    <tr>\n",
       "      <th>5506</th>\n",
       "      <td>79.81</td>\n",
       "      <td>79.702528</td>\n",
       "    </tr>\n",
       "    <tr>\n",
       "      <th>6451</th>\n",
       "      <td>76.08</td>\n",
       "      <td>76.239386</td>\n",
       "    </tr>\n",
       "    <tr>\n",
       "      <th>2670</th>\n",
       "      <td>85.55</td>\n",
       "      <td>86.150837</td>\n",
       "    </tr>\n",
       "    <tr>\n",
       "      <th>3497</th>\n",
       "      <td>48.82</td>\n",
       "      <td>48.805450</td>\n",
       "    </tr>\n",
       "  </tbody>\n",
       "</table>\n",
       "</div>"
      ],
      "text/plain": [
       "      Actual  Predicted\n",
       "9394   59.29  59.862433\n",
       "898    88.04  87.732273\n",
       "2398   66.97  67.568466\n",
       "5906   60.83  60.946869\n",
       "2343   72.08  71.591996\n",
       "8225   48.22  48.272965\n",
       "5506   79.81  79.702528\n",
       "6451   76.08  76.239386\n",
       "2670   85.55  86.150837\n",
       "3497   48.82  48.805450"
      ]
     },
     "execution_count": 14,
     "metadata": {},
     "output_type": "execute_result"
    }
   ],
   "source": [
    "table.head(10)"
   ]
  },
  {
   "cell_type": "code",
   "execution_count": null,
   "id": "7faa70d1",
   "metadata": {},
   "outputs": [],
   "source": []
  },
  {
   "cell_type": "code",
   "execution_count": 23,
   "id": "b5f4be7b",
   "metadata": {},
   "outputs": [],
   "source": [
    "import statsmodels.formula.api as smf"
   ]
  },
  {
   "cell_type": "code",
   "execution_count": 24,
   "id": "0165ee32",
   "metadata": {},
   "outputs": [],
   "source": [
    "linear_model = smf.ols(\"y~X\", data=df).fit()"
   ]
  },
  {
   "cell_type": "code",
   "execution_count": 25,
   "id": "c9f0c1a4",
   "metadata": {
    "scrolled": false
   },
   "outputs": [
    {
     "data": {
      "text/plain": [
       "Intercept   -9.992970e-03\n",
       "X[0]        -5.361204e-01\n",
       "X[1]         8.429992e-01\n",
       "X[2]         6.927615e-01\n",
       "X[3]        -2.671557e-09\n",
       "X[4]         4.042762e-03\n",
       "dtype: float64"
      ]
     },
     "execution_count": 25,
     "metadata": {},
     "output_type": "execute_result"
    }
   ],
   "source": [
    "linear_model.params"
   ]
  },
  {
   "cell_type": "markdown",
   "id": "5a4e76f4",
   "metadata": {},
   "source": [
    "# Observation\n",
    "the coefficient of 'X[0]' (-5.361204e-01) indicates that the 'open' feature has a negative influence on the predicted stock price. This means that if the 'open' value increases, the predicted stock price will decrease, and vice versa. Similarly, the coefficient of 'X[1]' (8.429992e-01) indicates that the 'high' feature has a positive influence on the predicted stock price, meaning that if the 'high' value increases, the predicted stock price will also increase."
   ]
  },
  {
   "cell_type": "code",
   "execution_count": 26,
   "id": "ff1535f3",
   "metadata": {
    "scrolled": true
   },
   "outputs": [
    {
     "name": "stdout",
     "output_type": "stream",
     "text": [
      "Intercept     -0.687385\n",
      "X[0]         -65.009225\n",
      "X[1]         114.254757\n",
      "X[2]          98.020298\n",
      "X[3]          -5.360644\n",
      "X[4]           0.055286\n",
      "dtype: float64 \n",
      " Intercept    4.918561e-01\n",
      "X[0]         0.000000e+00\n",
      "X[1]         0.000000e+00\n",
      "X[2]         0.000000e+00\n",
      "X[3]         8.477306e-08\n",
      "X[4]         9.559116e-01\n",
      "dtype: float64\n"
     ]
    }
   ],
   "source": [
    "print(linear_model.tvalues,'\\n',linear_model.pvalues)"
   ]
  },
  {
   "cell_type": "markdown",
   "id": "b32615c9",
   "metadata": {},
   "source": [
    "# Observation\n",
    "The first set of coefficients shows the values of the weights for the features in the model. For example, the coefficient for 'X[0]' is -65.009225, which means that the value of the 'open' feature has a negative impact on the predicted stock price. Similarly, the coefficient for 'X[1]' is 114.254757, which means that the value of the 'high' feature has a positive impact on the predicted stock price.\n",
    "\n",
    "The second set of coefficients shows the values of the weights for the features in the model after they have been standardized. Standardization is a technique used to transform the values of the features so that they have zero mean and unit variance. Standardization is often used to make the values of the features more comparable, since different features may have different scales.\n",
    "\n",
    "conclusion--the 'open' feature has a negative impact on the predicted stock price, while the 'dividends' feature has a positive impact on the predicted stock price."
   ]
  },
  {
   "cell_type": "code",
   "execution_count": 27,
   "id": "708d6b98",
   "metadata": {},
   "outputs": [
    {
     "data": {
      "text/html": [
       "<table class=\"simpletable\">\n",
       "<caption>OLS Regression Results</caption>\n",
       "<tr>\n",
       "  <th>Dep. Variable:</th>            <td>y</td>        <th>  R-squared:         </th> <td>   1.000</td> \n",
       "</tr>\n",
       "<tr>\n",
       "  <th>Model:</th>                   <td>OLS</td>       <th>  Adj. R-squared:    </th> <td>   1.000</td> \n",
       "</tr>\n",
       "<tr>\n",
       "  <th>Method:</th>             <td>Least Squares</td>  <th>  F-statistic:       </th> <td>4.542e+06</td>\n",
       "</tr>\n",
       "<tr>\n",
       "  <th>Date:</th>             <td>Fri, 06 Jan 2023</td> <th>  Prob (F-statistic):</th>  <td>  0.00</td>  \n",
       "</tr>\n",
       "<tr>\n",
       "  <th>Time:</th>                 <td>22:21:27</td>     <th>  Log-Likelihood:    </th> <td> -4416.3</td> \n",
       "</tr>\n",
       "<tr>\n",
       "  <th>No. Observations:</th>      <td> 10000</td>      <th>  AIC:               </th> <td>   8845.</td> \n",
       "</tr>\n",
       "<tr>\n",
       "  <th>Df Residuals:</th>          <td>  9994</td>      <th>  BIC:               </th> <td>   8888.</td> \n",
       "</tr>\n",
       "<tr>\n",
       "  <th>Df Model:</th>              <td>     5</td>      <th>                     </th>     <td> </td>    \n",
       "</tr>\n",
       "<tr>\n",
       "  <th>Covariance Type:</th>      <td>nonrobust</td>    <th>                     </th>     <td> </td>    \n",
       "</tr>\n",
       "</table>\n",
       "<table class=\"simpletable\">\n",
       "<tr>\n",
       "      <td></td>         <th>coef</th>     <th>std err</th>      <th>t</th>      <th>P>|t|</th>  <th>[0.025</th>    <th>0.975]</th>  \n",
       "</tr>\n",
       "<tr>\n",
       "  <th>Intercept</th> <td>   -0.0100</td> <td>    0.015</td> <td>   -0.687</td> <td> 0.492</td> <td>   -0.038</td> <td>    0.019</td>\n",
       "</tr>\n",
       "<tr>\n",
       "  <th>X[0]</th>      <td>   -0.5361</td> <td>    0.008</td> <td>  -65.009</td> <td> 0.000</td> <td>   -0.552</td> <td>   -0.520</td>\n",
       "</tr>\n",
       "<tr>\n",
       "  <th>X[1]</th>      <td>    0.8430</td> <td>    0.007</td> <td>  114.255</td> <td> 0.000</td> <td>    0.829</td> <td>    0.857</td>\n",
       "</tr>\n",
       "<tr>\n",
       "  <th>X[2]</th>      <td>    0.6928</td> <td>    0.007</td> <td>   98.020</td> <td> 0.000</td> <td>    0.679</td> <td>    0.707</td>\n",
       "</tr>\n",
       "<tr>\n",
       "  <th>X[3]</th>      <td>-2.672e-09</td> <td> 4.98e-10</td> <td>   -5.361</td> <td> 0.000</td> <td>-3.65e-09</td> <td>-1.69e-09</td>\n",
       "</tr>\n",
       "<tr>\n",
       "  <th>X[4]</th>      <td>    0.0040</td> <td>    0.073</td> <td>    0.055</td> <td> 0.956</td> <td>   -0.139</td> <td>    0.147</td>\n",
       "</tr>\n",
       "</table>\n",
       "<table class=\"simpletable\">\n",
       "<tr>\n",
       "  <th>Omnibus:</th>       <td>2314.536</td> <th>  Durbin-Watson:     </th> <td>   2.089</td> \n",
       "</tr>\n",
       "<tr>\n",
       "  <th>Prob(Omnibus):</th>  <td> 0.000</td>  <th>  Jarque-Bera (JB):  </th> <td>88836.076</td>\n",
       "</tr>\n",
       "<tr>\n",
       "  <th>Skew:</th>           <td> 0.347</td>  <th>  Prob(JB):          </th> <td>    0.00</td> \n",
       "</tr>\n",
       "<tr>\n",
       "  <th>Kurtosis:</th>       <td>17.585</td>  <th>  Cond. No.          </th> <td>3.18e+08</td> \n",
       "</tr>\n",
       "</table><br/><br/>Notes:<br/>[1] Standard Errors assume that the covariance matrix of the errors is correctly specified.<br/>[2] The condition number is large, 3.18e+08. This might indicate that there are<br/>strong multicollinearity or other numerical problems."
      ],
      "text/plain": [
       "<class 'statsmodels.iolib.summary.Summary'>\n",
       "\"\"\"\n",
       "                            OLS Regression Results                            \n",
       "==============================================================================\n",
       "Dep. Variable:                      y   R-squared:                       1.000\n",
       "Model:                            OLS   Adj. R-squared:                  1.000\n",
       "Method:                 Least Squares   F-statistic:                 4.542e+06\n",
       "Date:                Fri, 06 Jan 2023   Prob (F-statistic):               0.00\n",
       "Time:                        22:21:27   Log-Likelihood:                -4416.3\n",
       "No. Observations:               10000   AIC:                             8845.\n",
       "Df Residuals:                    9994   BIC:                             8888.\n",
       "Df Model:                           5                                         \n",
       "Covariance Type:            nonrobust                                         \n",
       "==============================================================================\n",
       "                 coef    std err          t      P>|t|      [0.025      0.975]\n",
       "------------------------------------------------------------------------------\n",
       "Intercept     -0.0100      0.015     -0.687      0.492      -0.038       0.019\n",
       "X[0]          -0.5361      0.008    -65.009      0.000      -0.552      -0.520\n",
       "X[1]           0.8430      0.007    114.255      0.000       0.829       0.857\n",
       "X[2]           0.6928      0.007     98.020      0.000       0.679       0.707\n",
       "X[3]       -2.672e-09   4.98e-10     -5.361      0.000   -3.65e-09   -1.69e-09\n",
       "X[4]           0.0040      0.073      0.055      0.956      -0.139       0.147\n",
       "==============================================================================\n",
       "Omnibus:                     2314.536   Durbin-Watson:                   2.089\n",
       "Prob(Omnibus):                  0.000   Jarque-Bera (JB):            88836.076\n",
       "Skew:                           0.347   Prob(JB):                         0.00\n",
       "Kurtosis:                      17.585   Cond. No.                     3.18e+08\n",
       "==============================================================================\n",
       "\n",
       "Notes:\n",
       "[1] Standard Errors assume that the covariance matrix of the errors is correctly specified.\n",
       "[2] The condition number is large, 3.18e+08. This might indicate that there are\n",
       "strong multicollinearity or other numerical problems.\n",
       "\"\"\""
      ]
     },
     "execution_count": 27,
     "metadata": {},
     "output_type": "execute_result"
    }
   ],
   "source": [
    "linear_model.summary()"
   ]
  },
  {
   "cell_type": "code",
   "execution_count": null,
   "id": "3b5a00ad",
   "metadata": {},
   "outputs": [],
   "source": []
  }
 ],
 "metadata": {
  "kernelspec": {
   "display_name": "Python 3 (ipykernel)",
   "language": "python",
   "name": "python3"
  },
  "language_info": {
   "codemirror_mode": {
    "name": "ipython",
    "version": 3
   },
   "file_extension": ".py",
   "mimetype": "text/x-python",
   "name": "python",
   "nbconvert_exporter": "python",
   "pygments_lexer": "ipython3",
   "version": "3.9.13"
  }
 },
 "nbformat": 4,
 "nbformat_minor": 5
}
