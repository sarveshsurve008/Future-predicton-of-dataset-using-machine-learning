{
 "cells": [
  {
   "cell_type": "markdown",
   "id": "82579ede",
   "metadata": {},
   "source": [
    "# Delivery_time -> Predict delivery time using sorting time (log, cbrt, sqrt) "
   ]
  },
  {
   "cell_type": "code",
   "execution_count": 12,
   "id": "9abb5660",
   "metadata": {},
   "outputs": [],
   "source": [
    "import pandas as pd\n",
    "import numpy as np\n",
    "from scipy import stats\n",
    "import seaborn as sns\n",
    "import matplotlib.pyplot as plt\n",
    "from sklearn.linear_model import LinearRegression\n",
    "from sklearn.model_selection import train_test_split\n",
    "%matplotlib inline\n",
    "from scipy.stats import linregress"
   ]
  },
  {
   "cell_type": "code",
   "execution_count": 3,
   "id": "d270764b",
   "metadata": {},
   "outputs": [],
   "source": [
    "data=pd.read_csv(\"C:\\\\Users\\\\SARVESH SURVE\\\\OneDrive\\\\Desktop\\\\data\\\\Excelr.dataset\\\\delivery_time (1).csv\")"
   ]
  },
  {
   "cell_type": "code",
   "execution_count": 4,
   "id": "32775408",
   "metadata": {},
   "outputs": [
    {
     "data": {
      "text/html": [
       "<div>\n",
       "<style scoped>\n",
       "    .dataframe tbody tr th:only-of-type {\n",
       "        vertical-align: middle;\n",
       "    }\n",
       "\n",
       "    .dataframe tbody tr th {\n",
       "        vertical-align: top;\n",
       "    }\n",
       "\n",
       "    .dataframe thead th {\n",
       "        text-align: right;\n",
       "    }\n",
       "</style>\n",
       "<table border=\"1\" class=\"dataframe\">\n",
       "  <thead>\n",
       "    <tr style=\"text-align: right;\">\n",
       "      <th></th>\n",
       "      <th>Delivery Time</th>\n",
       "      <th>Sorting Time</th>\n",
       "    </tr>\n",
       "  </thead>\n",
       "  <tbody>\n",
       "    <tr>\n",
       "      <th>0</th>\n",
       "      <td>21.00</td>\n",
       "      <td>10</td>\n",
       "    </tr>\n",
       "    <tr>\n",
       "      <th>1</th>\n",
       "      <td>13.50</td>\n",
       "      <td>4</td>\n",
       "    </tr>\n",
       "    <tr>\n",
       "      <th>2</th>\n",
       "      <td>19.75</td>\n",
       "      <td>6</td>\n",
       "    </tr>\n",
       "    <tr>\n",
       "      <th>3</th>\n",
       "      <td>24.00</td>\n",
       "      <td>9</td>\n",
       "    </tr>\n",
       "    <tr>\n",
       "      <th>4</th>\n",
       "      <td>29.00</td>\n",
       "      <td>10</td>\n",
       "    </tr>\n",
       "  </tbody>\n",
       "</table>\n",
       "</div>"
      ],
      "text/plain": [
       "   Delivery Time  Sorting Time\n",
       "0          21.00            10\n",
       "1          13.50             4\n",
       "2          19.75             6\n",
       "3          24.00             9\n",
       "4          29.00            10"
      ]
     },
     "execution_count": 4,
     "metadata": {},
     "output_type": "execute_result"
    }
   ],
   "source": [
    "data.head()"
   ]
  },
  {
   "cell_type": "code",
   "execution_count": 7,
   "id": "3b9c5f33",
   "metadata": {},
   "outputs": [
    {
     "name": "stdout",
     "output_type": "stream",
     "text": [
      "<class 'pandas.core.frame.DataFrame'>\n",
      "RangeIndex: 21 entries, 0 to 20\n",
      "Data columns (total 2 columns):\n",
      " #   Column         Non-Null Count  Dtype  \n",
      "---  ------         --------------  -----  \n",
      " 0   Delivery Time  21 non-null     float64\n",
      " 1   Sorting Time   21 non-null     int64  \n",
      "dtypes: float64(1), int64(1)\n",
      "memory usage: 464.0 bytes\n"
     ]
    }
   ],
   "source": [
    "data.info()"
   ]
  },
  {
   "cell_type": "code",
   "execution_count": 8,
   "id": "6f367a1e",
   "metadata": {},
   "outputs": [
    {
     "data": {
      "text/html": [
       "<div>\n",
       "<style scoped>\n",
       "    .dataframe tbody tr th:only-of-type {\n",
       "        vertical-align: middle;\n",
       "    }\n",
       "\n",
       "    .dataframe tbody tr th {\n",
       "        vertical-align: top;\n",
       "    }\n",
       "\n",
       "    .dataframe thead th {\n",
       "        text-align: right;\n",
       "    }\n",
       "</style>\n",
       "<table border=\"1\" class=\"dataframe\">\n",
       "  <thead>\n",
       "    <tr style=\"text-align: right;\">\n",
       "      <th></th>\n",
       "      <th>Delivery Time</th>\n",
       "      <th>Sorting Time</th>\n",
       "    </tr>\n",
       "  </thead>\n",
       "  <tbody>\n",
       "    <tr>\n",
       "      <th>Delivery Time</th>\n",
       "      <td>1.000000</td>\n",
       "      <td>0.825997</td>\n",
       "    </tr>\n",
       "    <tr>\n",
       "      <th>Sorting Time</th>\n",
       "      <td>0.825997</td>\n",
       "      <td>1.000000</td>\n",
       "    </tr>\n",
       "  </tbody>\n",
       "</table>\n",
       "</div>"
      ],
      "text/plain": [
       "               Delivery Time  Sorting Time\n",
       "Delivery Time       1.000000      0.825997\n",
       "Sorting Time        0.825997      1.000000"
      ]
     },
     "execution_count": 8,
     "metadata": {},
     "output_type": "execute_result"
    }
   ],
   "source": [
    "data.corr()"
   ]
  },
  {
   "cell_type": "code",
   "execution_count": 9,
   "id": "4da01732",
   "metadata": {},
   "outputs": [],
   "source": [
    "data = data.rename(columns={\"Delivery Time\": \"Delivery_Time\",\"Sorting Time\":\"Sorting_Time\"})"
   ]
  },
  {
   "cell_type": "code",
   "execution_count": 10,
   "id": "710e49ea",
   "metadata": {},
   "outputs": [],
   "source": [
    "x = data['Sorting_Time']\n",
    "y = data['Delivery_Time']"
   ]
  },
  {
   "cell_type": "code",
   "execution_count": 13,
   "id": "8835912a",
   "metadata": {},
   "outputs": [
    {
     "name": "stdout",
     "output_type": "stream",
     "text": [
      "slope : 1.6490198968312455\n",
      "intercept : 6.582733971997053\n",
      "r_value : 0.8259972607955326\n",
      "p_value : 3.983049566687784e-06\n",
      "std_err : 0.25816572998011705\n"
     ]
    }
   ],
   "source": [
    "#perform linear regression\n",
    "slope , intercept, r_value, p_value, std_err = linregress(x,y)\n",
    "\n",
    "print(\"slope :\", slope)\n",
    "print(\"intercept :\", intercept)\n",
    "print(\"r_value :\", r_value)\n",
    "print(\"p_value :\", p_value)\n",
    "print(\"std_err :\", std_err)"
   ]
  },
  {
   "cell_type": "code",
   "execution_count": 14,
   "id": "3296516b",
   "metadata": {},
   "outputs": [],
   "source": [
    "x = np.array(data['Delivery_Time'])\n",
    "y = np.array(data['Sorting_Time'])"
   ]
  },
  {
   "cell_type": "code",
   "execution_count": 15,
   "id": "346d54e9",
   "metadata": {},
   "outputs": [
    {
     "name": "stdout",
     "output_type": "stream",
     "text": [
      "x_cbrt : [2.75892418 2.38110158 2.70306009 2.88449914 3.07231683 2.48524644\n",
      " 2.66840165 2.11791179 2.61587915 2.65664642 2.70670487 2.20700248\n",
      " 2.55504576 2.25717872 2.29133475 2.45961789 2.39570993 2.6260691\n",
      " 2.         2.6124648  2.78064888]\n",
      "y_sqrt : [3.16227766 2.         2.44948974 3.         3.16227766 2.44948974\n",
      " 2.64575131 1.73205081 3.16227766 3.         2.82842712 2.\n",
      " 2.64575131 1.73205081 1.73205081 2.         2.44948974 2.64575131\n",
      " 1.41421356 2.64575131 2.23606798]\n",
      "x_cbrt [2.75892418 2.38110158 2.70306009 2.88449914 3.07231683 2.48524644\n",
      " 2.66840165 2.11791179 2.61587915 2.65664642 2.70670487 2.20700248\n",
      " 2.55504576 2.25717872 2.29133475 2.45961789 2.39570993 2.6260691\n",
      " 2.         2.6124648  2.78064888]\n"
     ]
    }
   ],
   "source": [
    "# Transforming data using log, sqrt, and cbrt functions\n",
    "x_log = np.log(x)\n",
    "y_sqrt = np.sqrt(y)\n",
    "x_cbrt = np.cbrt(x)\n",
    "\n",
    "print(\"x_cbrt :\", x_cbrt)\n",
    "print(\"y_sqrt :\", y_sqrt)\n",
    "print(\"x_cbrt\", x_cbrt)\n"
   ]
  },
  {
   "cell_type": "code",
   "execution_count": 16,
   "id": "31cbb80e",
   "metadata": {},
   "outputs": [],
   "source": [
    "# Fit a line to the transformed data using least squares method\n",
    "slope, intercept = np.polyfit(x_log, y_sqrt, 1)"
   ]
  },
  {
   "cell_type": "code",
   "execution_count": 18,
   "id": "7ce1b289",
   "metadata": {},
   "outputs": [
    {
     "name": "stdout",
     "output_type": "stream",
     "text": [
      "Prediction for 25 delivery time: 3.076709670112309\n"
     ]
    }
   ],
   "source": [
    "# Prediction for sorting time for 25 delivery time\n",
    "prediction = slope * np.log(25) + intercept\n",
    "print(\"Prediction for 25 delivery time:\", prediction)"
   ]
  },
  {
   "cell_type": "code",
   "execution_count": 19,
   "id": "c71e8253",
   "metadata": {},
   "outputs": [
    {
     "name": "stdout",
     "output_type": "stream",
     "text": [
      "Prediction for 30 delivery time: 2.9148841422886234\n"
     ]
    }
   ],
   "source": [
    "# Prediction for sorting time for 30 delivery time\n",
    "prediction = slope * np.cbrt(30) + intercept\n",
    "print(\"Prediction for 30 delivery time:\", prediction)"
   ]
  },
  {
   "cell_type": "code",
   "execution_count": 21,
   "id": "1f4b22c3",
   "metadata": {},
   "outputs": [
    {
     "name": "stdout",
     "output_type": "stream",
     "text": [
      "Prediction for 30 delivery time: 9.160673868475298\n"
     ]
    }
   ],
   "source": [
    "# Prediction for sorting time for 55 delivery time\n",
    "prediction = slope * np.sqrt(55) + intercept\n",
    "print(\"Prediction for 30 delivery time:\", prediction)"
   ]
  },
  {
   "cell_type": "markdown",
   "id": "cbb12238",
   "metadata": {},
   "source": [
    "# observation\n",
    " 1.The log function can be useful for transforming data with a skewed distribution, as it allows us to model the relationship between the variables more accurately.\n",
    " 2.The sqrt function can be useful for transforming data that follows a power law distribution, as it helps to linearize the relationship between the variables.\n",
    " 3.The cbrt function can be useful for transforming data that follows a cubic distribution, as it helps to linearize the    relationship between the variables.\n",
    " 4.By using these functions to transform the data, we are able to better fit a linear model to the data and make more accurate  predictions."
   ]
  },
  {
   "cell_type": "code",
   "execution_count": 22,
   "id": "d3327c95",
   "metadata": {},
   "outputs": [],
   "source": [
    "import statsmodels.formula.api as smf"
   ]
  },
  {
   "cell_type": "code",
   "execution_count": 23,
   "id": "ec2d6e3c",
   "metadata": {},
   "outputs": [],
   "source": [
    "linear_model = smf.ols(\"y~x\", data=data).fit()"
   ]
  },
  {
   "cell_type": "code",
   "execution_count": 24,
   "id": "33fe48e8",
   "metadata": {},
   "outputs": [
    {
     "data": {
      "text/plain": [
       "Intercept   -0.756673\n",
       "x            0.413744\n",
       "dtype: float64"
      ]
     },
     "execution_count": 24,
     "metadata": {},
     "output_type": "execute_result"
    }
   ],
   "source": [
    "linear_model.params"
   ]
  },
  {
   "cell_type": "code",
   "execution_count": 25,
   "id": "39d88661",
   "metadata": {},
   "outputs": [
    {
     "data": {
      "text/html": [
       "<table class=\"simpletable\">\n",
       "<caption>OLS Regression Results</caption>\n",
       "<tr>\n",
       "  <th>Dep. Variable:</th>            <td>y</td>        <th>  R-squared:         </th> <td>   0.682</td>\n",
       "</tr>\n",
       "<tr>\n",
       "  <th>Model:</th>                   <td>OLS</td>       <th>  Adj. R-squared:    </th> <td>   0.666</td>\n",
       "</tr>\n",
       "<tr>\n",
       "  <th>Method:</th>             <td>Least Squares</td>  <th>  F-statistic:       </th> <td>   40.80</td>\n",
       "</tr>\n",
       "<tr>\n",
       "  <th>Date:</th>             <td>Mon, 09 Jan 2023</td> <th>  Prob (F-statistic):</th> <td>3.98e-06</td>\n",
       "</tr>\n",
       "<tr>\n",
       "  <th>Time:</th>                 <td>20:31:58</td>     <th>  Log-Likelihood:    </th> <td> -36.839</td>\n",
       "</tr>\n",
       "<tr>\n",
       "  <th>No. Observations:</th>      <td>    21</td>      <th>  AIC:               </th> <td>   77.68</td>\n",
       "</tr>\n",
       "<tr>\n",
       "  <th>Df Residuals:</th>          <td>    19</td>      <th>  BIC:               </th> <td>   79.77</td>\n",
       "</tr>\n",
       "<tr>\n",
       "  <th>Df Model:</th>              <td>     1</td>      <th>                     </th>     <td> </td>   \n",
       "</tr>\n",
       "<tr>\n",
       "  <th>Covariance Type:</th>      <td>nonrobust</td>    <th>                     </th>     <td> </td>   \n",
       "</tr>\n",
       "</table>\n",
       "<table class=\"simpletable\">\n",
       "<tr>\n",
       "      <td></td>         <th>coef</th>     <th>std err</th>      <th>t</th>      <th>P>|t|</th>  <th>[0.025</th>    <th>0.975]</th>  \n",
       "</tr>\n",
       "<tr>\n",
       "  <th>Intercept</th> <td>   -0.7567</td> <td>    1.134</td> <td>   -0.667</td> <td> 0.513</td> <td>   -3.130</td> <td>    1.617</td>\n",
       "</tr>\n",
       "<tr>\n",
       "  <th>x</th>         <td>    0.4137</td> <td>    0.065</td> <td>    6.387</td> <td> 0.000</td> <td>    0.278</td> <td>    0.549</td>\n",
       "</tr>\n",
       "</table>\n",
       "<table class=\"simpletable\">\n",
       "<tr>\n",
       "  <th>Omnibus:</th>       <td> 1.409</td> <th>  Durbin-Watson:     </th> <td>   1.346</td>\n",
       "</tr>\n",
       "<tr>\n",
       "  <th>Prob(Omnibus):</th> <td> 0.494</td> <th>  Jarque-Bera (JB):  </th> <td>   0.371</td>\n",
       "</tr>\n",
       "<tr>\n",
       "  <th>Skew:</th>          <td> 0.255</td> <th>  Prob(JB):          </th> <td>   0.831</td>\n",
       "</tr>\n",
       "<tr>\n",
       "  <th>Kurtosis:</th>      <td> 3.405</td> <th>  Cond. No.          </th> <td>    62.1</td>\n",
       "</tr>\n",
       "</table><br/><br/>Notes:<br/>[1] Standard Errors assume that the covariance matrix of the errors is correctly specified."
      ],
      "text/plain": [
       "<class 'statsmodels.iolib.summary.Summary'>\n",
       "\"\"\"\n",
       "                            OLS Regression Results                            \n",
       "==============================================================================\n",
       "Dep. Variable:                      y   R-squared:                       0.682\n",
       "Model:                            OLS   Adj. R-squared:                  0.666\n",
       "Method:                 Least Squares   F-statistic:                     40.80\n",
       "Date:                Mon, 09 Jan 2023   Prob (F-statistic):           3.98e-06\n",
       "Time:                        20:31:58   Log-Likelihood:                -36.839\n",
       "No. Observations:                  21   AIC:                             77.68\n",
       "Df Residuals:                      19   BIC:                             79.77\n",
       "Df Model:                           1                                         \n",
       "Covariance Type:            nonrobust                                         \n",
       "==============================================================================\n",
       "                 coef    std err          t      P>|t|      [0.025      0.975]\n",
       "------------------------------------------------------------------------------\n",
       "Intercept     -0.7567      1.134     -0.667      0.513      -3.130       1.617\n",
       "x              0.4137      0.065      6.387      0.000       0.278       0.549\n",
       "==============================================================================\n",
       "Omnibus:                        1.409   Durbin-Watson:                   1.346\n",
       "Prob(Omnibus):                  0.494   Jarque-Bera (JB):                0.371\n",
       "Skew:                           0.255   Prob(JB):                        0.831\n",
       "Kurtosis:                       3.405   Cond. No.                         62.1\n",
       "==============================================================================\n",
       "\n",
       "Notes:\n",
       "[1] Standard Errors assume that the covariance matrix of the errors is correctly specified.\n",
       "\"\"\""
      ]
     },
     "execution_count": 25,
     "metadata": {},
     "output_type": "execute_result"
    }
   ],
   "source": [
    "linear_model.summary()"
   ]
  },
  {
   "cell_type": "code",
   "execution_count": null,
   "id": "87a26afc",
   "metadata": {},
   "outputs": [],
   "source": []
  }
 ],
 "metadata": {
  "kernelspec": {
   "display_name": "Python 3 (ipykernel)",
   "language": "python",
   "name": "python3"
  },
  "language_info": {
   "codemirror_mode": {
    "name": "ipython",
    "version": 3
   },
   "file_extension": ".py",
   "mimetype": "text/x-python",
   "name": "python",
   "nbconvert_exporter": "python",
   "pygments_lexer": "ipython3",
   "version": "3.9.13"
  }
 },
 "nbformat": 4,
 "nbformat_minor": 5
}
